{
 "cells": [
  {
   "cell_type": "code",
   "execution_count": 2,
   "id": "6e55d364",
   "metadata": {},
   "outputs": [],
   "source": [
    "#https://docs.ultralytics.com/usage/python/\n",
    "\n",
    "from ultralytics import YOLO"
   ]
  },
  {
   "cell_type": "code",
   "execution_count": null,
   "id": "b97f3062",
   "metadata": {},
   "outputs": [],
   "source": [
    "model = YOLO(\"yolo11s.pt\")\n",
    "results = model.train(data = \"data.yaml\", epochs=5)\n"
   ]
  },
  {
   "cell_type": "markdown",
   "id": "89c02a3d",
   "metadata": {},
   "source": [
    "Because training took so long for so few epochs (I don't have an NVIDIA GPU) train3 will happen on google CoLab, and I will bring it back here for testing"
   ]
  },
  {
   "cell_type": "code",
   "execution_count": null,
   "id": "f943728f",
   "metadata": {},
   "outputs": [],
   "source": []
  }
 ],
 "metadata": {
  "kernelspec": {
   "display_name": "endo-yolo",
   "language": "python",
   "name": "python3"
  },
  "language_info": {
   "codemirror_mode": {
    "name": "ipython",
    "version": 3
   },
   "file_extension": ".py",
   "mimetype": "text/x-python",
   "name": "python",
   "nbconvert_exporter": "python",
   "pygments_lexer": "ipython3",
   "version": "3.12.11"
  }
 },
 "nbformat": 4,
 "nbformat_minor": 5
}
